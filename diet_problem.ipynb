{
 "cells": [
  {
   "cell_type": "markdown",
   "metadata": {},
   "source": [
    "## Solving the Diet problem in chapter 2 of the AMPL book\n",
    "Minimize: <br>\n",
    "3.19 XBEEF + 2.59 XCHK + 2.29 XFISH + 2.89 X HAM + <br>\n",
    "1.89 X MCH + 1.99 X MTL + 1.99 XSPG + 2.49 XTUR <br>\n",
    "Subject to: <br>\n",
    "60 XBEEF + 8 XCHK + 8 XFISH + 40 X HAM + <br>\n",
    "15 X MCH + 70 X MTL + 25 XSPG + 60 XTUR ≥ 700 <br>\n",
    "20 XBEEF + 0 XCHK + 10 XFISH + 40 X HAM + <br>\n",
    "35 X MCH + 30 X MTL + 50 XSPG + 20 XTUR ≥ 700 <br>\n",
    "10 XBEEF + 20 XCHK + 15 XFISH + 35 X HAM + <br>\n",
    "15 X MCH + 15 X MTL + 25 XSPG + 15 XTUR ≥ 700 <br>\n",
    "15 XBEEF + 20 XCHK + 10 XFISH + 10 X HAM + <br>\n",
    "15 X MCH + 15 X MTL + 15 XSPG + 10 XTUR ≥ 700 <br>\n",
    "XBEEF ≥ 0, XCHK ≥ 0, XFISH ≥ 0, X HAM ≥ 0, <br>\n",
    "X MCH ≥ 0, X MTL ≥ 0, XSPG ≥ 0, XTUR ≥ 0"
   ]
  },
  {
   "cell_type": "code",
   "execution_count": 14,
   "metadata": {},
   "outputs": [],
   "source": [
    "from amplpy import AMPL\n",
    "ampl = AMPL()\n",
    "ampl.option['solver'] = 'cplex'"
   ]
  },
  {
   "cell_type": "code",
   "execution_count": 17,
   "metadata": {},
   "outputs": [
    {
     "name": "stdout",
     "output_type": "stream",
     "text": [
      "CPLEX 22.1.1.0: optimal integer solution; objective 119.3\n",
      "9 MIP simplex iterations\n",
      "0 branch-and-bound nodes\n",
      "absmipgap = 1.42109e-14, relmipgap = 1.19119e-16\n"
     ]
    }
   ],
   "source": [
    "ampl.reset()\n",
    "\n",
    "ampl.eval(\n",
    "'''\n",
    "set FOOD;\n",
    "set NUTR;\n",
    "\n",
    "param cost {FOOD} > 0;\n",
    "param f_min {FOOD} >= 0;\n",
    "param f_max {j in FOOD} >= f_min[j];\n",
    "param n_min {NUTR} >= 0;\n",
    "param n_max {i in NUTR} >= n_min[i];\n",
    "param amt {FOOD, NUTR} >= 0;\n",
    "\n",
    "var Buy {j in FOOD} integer >= f_min[j], <= f_max[j];\n",
    "\n",
    "minimize Total_Cost: sum {j in FOOD} cost[j] * Buy[j];\n",
    "\n",
    "subject to Diet {i in NUTR}:\n",
    "    n_min[i] <= sum {j in FOOD} amt[j,i] * Buy[j] <= n_max[i];\n",
    "'''\n",
    ")\n",
    "\n",
    "ampl.set['FOOD'] = ['BEEF', 'CHK', 'FISH', 'HAM', 'MCH', 'MTL', 'SPG', 'TUR']\n",
    "ampl.set['NUTR'] = ['A', 'C', 'B1', 'B2', 'NA', 'CAL']\n",
    "ampl.param['cost'] = {'BEEF': 3.19, 'CHK': 2.59, 'FISH': 2.29, 'HAM': 2.89, 'MCH': 1.89, 'MTL': 1.99, 'SPG': 1.99, 'TUR': 2.49}\n",
    "ampl.param['f_min'] = {'BEEF': 2, 'CHK': 2, 'FISH': 2, 'HAM': 2, 'MCH': 2, 'MTL': 2, 'SPG': 2, 'TUR': 2}\n",
    "ampl.param['f_max'] = {'BEEF': 10, 'CHK': 10, 'FISH': 10, 'HAM': 10, 'MCH': 10, 'MTL': 10, 'SPG': 10, 'TUR': 10}\n",
    "ampl.param['n_min'] = {'A': 700, 'C': 700, 'B1': 700, 'B2': 700, 'NA': 0, 'CAL': 16000}\n",
    "ampl.param['n_max'] = {'A': 20000, 'C': 20000, 'B1': 20000, 'B2': 20000, 'NA': 50000, 'CAL': 24000}\n",
    "ampl.param['amt'] = {\n",
    "    ('BEEF', 'A'): 60, ('BEEF', 'C'): 20, ('BEEF', 'B1'): 10, ('BEEF', 'B2'): 15, ('BEEF', 'NA'): 938, ('BEEF', 'CAL'): 295,\n",
    "    ('CHK', 'A'): 8, ('CHK', 'C'): 0, ('CHK', 'B1'): 20, ('CHK', 'B2'): 20, ('CHK', 'NA'): 2180, ('CHK', 'CAL'): 770,\n",
    "    ('FISH', 'A'): 8, ('FISH', 'C'): 10, ('FISH', 'B1'): 15, ('FISH', 'B2'): 10, ('FISH', 'NA'): 945, ('FISH', 'CAL'): 440,\n",
    "    ('HAM', 'A'): 40, ('HAM', 'C'): 40, ('HAM', 'B1'): 35, ('HAM', 'B2'): 10, ('HAM', 'NA'): 278, ('HAM', 'CAL'): 430,\n",
    "    ('MCH', 'A'): 15, ('MCH', 'C'): 35, ('MCH', 'B1'): 15, ('MCH', 'B2'): 15, ('MCH', 'NA'): 1182, ('MCH', 'CAL'): 315,\n",
    "    ('MTL', 'A'): 70, ('MTL', 'C'): 30, ('MTL', 'B1'): 15, ('MTL', 'B2'): 15, ('MTL', 'NA'): 896, ('MTL', 'CAL'): 400,\n",
    "    ('SPG', 'A'): 25, ('SPG', 'C'): 50, ('SPG', 'B1'): 25, ('SPG', 'B2'): 15, ('SPG', 'NA'): 1329, ('SPG', 'CAL'): 370,\n",
    "    ('TUR', 'A'): 60, ('TUR', 'C'): 20, ('TUR', 'B1'): 15, ('TUR', 'B2'): 10, ('TUR', 'NA'): 1397, ('TUR', 'CAL'): 450\n",
    "}\n",
    "\n",
    "ampl.solve()"
   ]
  },
  {
   "cell_type": "code",
   "execution_count": 18,
   "metadata": {},
   "outputs": [
    {
     "name": "stdout",
     "output_type": "stream",
     "text": [
      "Buy [*] :=\n",
      "BEEF   9\n",
      " CHK   2\n",
      "FISH   2\n",
      " HAM   8\n",
      " MCH  10\n",
      " MTL  10\n",
      " SPG   7\n",
      " TUR   2\n",
      ";\n",
      "\n",
      ":   Diet.lb Diet.body Diet.ub    :=\n",
      "A       700     2037    20000\n",
      "B1      700      945    20000\n",
      "B2      700      700    20000\n",
      "C       700     1560    20000\n",
      "CAL   16000    19155    24000\n",
      "NA        0    49793    50000\n",
      ";\n",
      "\n"
     ]
    }
   ],
   "source": [
    "ampl.display('Buy')\n",
    "\n",
    "ampl.display('Diet.lb', 'Diet.body', 'Diet.ub')"
   ]
  }
 ],
 "metadata": {
  "kernelspec": {
   "display_name": "Python 3",
   "language": "python",
   "name": "python3"
  },
  "language_info": {
   "codemirror_mode": {
    "name": "ipython",
    "version": 3
   },
   "file_extension": ".py",
   "mimetype": "text/x-python",
   "name": "python",
   "nbconvert_exporter": "python",
   "pygments_lexer": "ipython3",
   "version": "3.10.4"
  }
 },
 "nbformat": 4,
 "nbformat_minor": 2
}
